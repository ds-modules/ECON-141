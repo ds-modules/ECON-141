{
 "cells": [
  {
   "cell_type": "markdown",
   "metadata": {},
   "source": [
    "### Ec141, Spring 2019\n",
    "### Professor Bryan Graham\n",
    "### Problem Set 3\n",
    "### Due: March 19th, 2019\n",
    "\n",
    "Problem sets are due at 5PM in the GSI's mailbox. You may work in groups, but each student should turn in their own write-up (including a narrated/commented and executed Jupyter Notebook). Please use markdown boxes within your Jupyter Notebook for narrative answers to the questions below."
   ]
  },
  {
   "cell_type": "markdown",
   "metadata": {},
   "source": [
    "## 1   Frisch-Waugh Theorem and Residual Regression\n",
    "Consider the long linear regression\n",
    "\n",
    "$$\n",
    "\\mathbb{E}^*[Y|X,W]=X^{\\prime}\\beta_0+W^{\\prime}\\gamma_0\n",
    "$$\n",
    "\n",
    "with $X$ a $K\\times 1$ vector (which includes a constant) and $W$ a $J\\times 1$ vector (*which does not* include a constant). We also have the short linear regression\n",
    "\n",
    "$$\n",
    "\\mathbb{E}^*[Y|X]=X^{\\prime}b_0\n",
    "$$\n",
    "\n",
    "as well as the auxiliary (multivariate regression):\n",
    "\n",
    "$$\n",
    "\\mathbb{E}^*[W|X]=\\Pi_0 X\n",
    "$$\n"
   ]
  },
  {
   "cell_type": "markdown",
   "metadata": {},
   "source": [
    "1. Construct the $J\\times 1$ residual vector:\n",
    "\n",
    "$$\n",
    "V=W-\\Pi_0 X\n",
    "$$\n",
    "\n",
    "and show that \n",
    "\n",
    "$$\\mathbb{E}^*[Y|X,V]=\\mathbb{E}^*[Y|X]+\\mathbb{E}^*[Y|V]-\\mathbb{E}[Y].\n",
    "$$\n",
    "\n",
    "Interpret your result [10 Sentences]."
   ]
  },
  {
   "cell_type": "markdown",
   "metadata": {},
   "source": []
  },
  {
   "cell_type": "markdown",
   "metadata": {},
   "source": [
    "Let $\\mathbb{E}^*[Y|V]=V^{\\prime}\\eta_0$ and show that\n",
    "\n",
    "$$\n",
    "\\mathbb{E}^*[Y|X,W]=X^{\\prime}b_0+V^{\\prime}\\gamma_0\n",
    "$$\n",
    "\n",
    "and hence that $\\gamma_0=\\eta_0$. Interpret your result [10 sentences]."
   ]
  },
  {
   "cell_type": "markdown",
   "metadata": {},
   "source": []
  },
  {
   "cell_type": "markdown",
   "metadata": {},
   "source": [
    "## Linear Regression\n",
    "This question uses the comma delimited dataset **nlsy79extract.csv**. You used this data file to complete Problem Set #2. For this problem, you will use a slightly different extract of respondents (you should be able to modify your code from Problem Set #2 to construct this new extract)."
   ]
  },
  {
   "cell_type": "markdown",
   "metadata": {},
   "source": [
    "1. Load the dataset into a pandas dataframe called **nlsy79**. Use **HHID_79** and **PID_79** as the multi-indices for the dataframe."
   ]
  },
  {
   "cell_type": "code",
   "execution_count": 1,
   "metadata": {},
   "outputs": [],
   "source": [
    "import pandas as pd\n",
    "nlsy79=pd.read_csv(\"https://raw.githubusercontent.com/bryangraham/Ec_141/master/Spring2019/Datasets/nlsy79extract.csv\")\n",
    "nlsy79.rename(columns = {'HGC_FATH79r':'HGC_Fath79','HGC_MOTH79r':'HGC_Moth79'},inplace=True);"
   ]
  },
  {
   "cell_type": "code",
   "execution_count": null,
   "metadata": {},
   "outputs": [],
   "source": []
  },
  {
   "cell_type": "markdown",
   "metadata": {},
   "source": [
    "2. Drop any cases where **core_sample** equals zero."
   ]
  },
  {
   "cell_type": "code",
   "execution_count": null,
   "metadata": {},
   "outputs": [],
   "source": []
  },
  {
   "cell_type": "markdown",
   "metadata": {},
   "source": [
    "3. Drop any cases where **male** equals zero."
   ]
  },
  {
   "cell_type": "code",
   "execution_count": null,
   "metadata": {},
   "outputs": [],
   "source": []
  },
  {
   "cell_type": "markdown",
   "metadata": {},
   "source": [
    "4. Create a variable called **earnings_in_2000** which is the average of **real_earnings_1997**, **real_earnings_1999**,  **real_earnings_2001**, **real_earnings_2003**. When computing this variable average over all non-missing values; for example if earnings is observed in just two of the four years listed above, average over the two years it is observed."
   ]
  },
  {
   "cell_type": "code",
   "execution_count": null,
   "metadata": {},
   "outputs": [],
   "source": []
  },
  {
   "cell_type": "markdown",
   "metadata": {},
   "source": [
    "5. Drop all variables except **HGC_Age28**, **live_with_mom_at_14**, **live_with_dad_at_14**, **usborn**, **hispanic**, **black**, **AFQT**, **HGC_Fath79**, **HGC_Moth79**, and **earnings_in_2000**."
   ]
  },
  {
   "cell_type": "code",
   "execution_count": null,
   "metadata": {},
   "outputs": [],
   "source": []
  },
  {
   "cell_type": "markdown",
   "metadata": {},
   "source": [
    "6. Finally retain only complete cases (you can use \"dropna()\" for this)."
   ]
  },
  {
   "cell_type": "code",
   "execution_count": null,
   "metadata": {},
   "outputs": [],
   "source": []
  },
  {
   "cell_type": "markdown",
   "metadata": {},
   "source": [
    "7. Those units that remain constitute your estimation sample. Use \"describe()\" to print out some basic summary statistics for your estimation sample. Write a short paragraph about your dataset."
   ]
  },
  {
   "cell_type": "code",
   "execution_count": null,
   "metadata": {},
   "outputs": [],
   "source": []
  },
  {
   "cell_type": "markdown",
   "metadata": {},
   "source": [
    "Define **LogEarn** to be the natural logarithm of **earnings_in_2000**."
   ]
  },
  {
   "cell_type": "markdown",
   "metadata": {},
   "source": [
    "1. Compute the least squares fit of **LogEarn** onto a constant and **HGC_Age28**. You may use Python's StatsModels OLS implementation for computation and standard error construction."
   ]
  },
  {
   "cell_type": "code",
   "execution_count": null,
   "metadata": {},
   "outputs": [],
   "source": []
  },
  {
   "cell_type": "markdown",
   "metadata": {},
   "source": [
    "2. Estimate the parameters of the following linear regression model by the method of least squares\n",
    "\n",
    "$$\n",
    "\\mathbb{E}^*[\\text{LogEarn}|X]=\\alpha_0+\\beta_0 \\text{HGC_Age28} + \\gamma_0 \\text{HGC_Age28}\\times (\\text{AFQT}-50)+\\delta_0 \\text{AFQT}\n",
    "$$\n",
    "\n",
    "where $X = (\\text{HGC_Age28}, \\text{HGC_Age28}\\times(\\text{AFQT}-50), \\text{AFQT})^{\\prime}.$"
   ]
  },
  {
   "cell_type": "code",
   "execution_count": null,
   "metadata": {},
   "outputs": [],
   "source": []
  },
  {
   "cell_type": "markdown",
   "metadata": {},
   "source": [
    "(a) Plot your estimate of $\\beta_0+\\gamma_0(\\text{AFQT}-50)$ as a function of **AFQT** (for **AFQT** from zero to one hundred)."
   ]
  },
  {
   "cell_type": "code",
   "execution_count": null,
   "metadata": {},
   "outputs": [],
   "source": []
  },
  {
   "cell_type": "markdown",
   "metadata": {},
   "source": [
    "(b) Construct an asymptotic point-wise confidence band for $\\beta_0+\\gamma_0(\\text{AFQT}-50)$ and plot it on the same figure."
   ]
  },
  {
   "cell_type": "code",
   "execution_count": null,
   "metadata": {},
   "outputs": [],
   "source": []
  },
  {
   "cell_type": "markdown",
   "metadata": {},
   "source": [
    "(c) Interpret $\\beta_0$ and discuss your estimates of them."
   ]
  },
  {
   "cell_type": "code",
   "execution_count": null,
   "metadata": {},
   "outputs": [],
   "source": []
  },
  {
   "cell_type": "markdown",
   "metadata": {},
   "source": [
    "3. Additionally condition on **live_with_mom_at_14**, **live_with_dad_at_14**, **usborn**, **hispanic**, **black**, **HGC_Fath79**, and **HGC_Moth79**. Do the estimated coefficients on **HGC_Age28** and interaction with **AFQT** change? Explain."
   ]
  },
  {
   "cell_type": "code",
   "execution_count": null,
   "metadata": {},
   "outputs": [],
   "source": []
  }
 ],
 "metadata": {
  "kernelspec": {
   "display_name": "Python 3",
   "language": "python",
   "name": "python3"
  },
  "language_info": {
   "codemirror_mode": {
    "name": "ipython",
    "version": 3
   },
   "file_extension": ".py",
   "mimetype": "text/x-python",
   "name": "python",
   "nbconvert_exporter": "python",
   "pygments_lexer": "ipython3",
   "version": "3.7.1"
  }
 },
 "nbformat": 4,
 "nbformat_minor": 2
}
